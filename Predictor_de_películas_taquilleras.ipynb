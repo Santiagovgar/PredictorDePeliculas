{
  "nbformat": 4,
  "nbformat_minor": 0,
  "metadata": {
    "colab": {
      "provenance": []
    },
    "kernelspec": {
      "name": "python3",
      "display_name": "Python 3"
    },
    "language_info": {
      "name": "python"
    }
  },
  "cells": [
    {
      "cell_type": "code",
      "execution_count": null,
      "metadata": {
        "id": "8Xy1s5XJHeIj"
      },
      "outputs": [],
      "source": [
        "import numpy as np\n",
        "import pandas as pd\n",
        "import matplotlib.pyplot as plt\n",
        "import seaborn as sns\n",
        "from sklearn.metrics import r2_score, mean_absolute_error, mean_squared_error\n",
        "from wordcloud import WordCloud\n",
        "from sklearn.ensemble import RandomForestRegressor\n",
        "from sklearn.model_selection import train_test_split\n",
        "\n",
        "trainData=pd.read_csv(\"/train.csv\")\n",
        "testData = pd.read_csv(\"/test.csv\")"
      ]
    },
    {
      "cell_type": "code",
      "source": [
        "trainData.isnull().sum()"
      ],
      "metadata": {
        "colab": {
          "base_uri": "https://localhost:8080/"
        },
        "id": "F9p3OpNUJl97",
        "outputId": "759c3910-de50-4e4e-8733-db75439a800f"
      },
      "execution_count": null,
      "outputs": [
        {
          "output_type": "execute_result",
          "data": {
            "text/plain": [
              "id                          0\n",
              "belongs_to_collection    2396\n",
              "budget                      0\n",
              "genres                      7\n",
              "homepage                 2054\n",
              "imdb_id                     0\n",
              "original_language           0\n",
              "original_title              0\n",
              "overview                    8\n",
              "popularity                  0\n",
              "poster_path                 1\n",
              "production_companies      156\n",
              "production_countries       55\n",
              "release_date                0\n",
              "runtime                     2\n",
              "spoken_languages           20\n",
              "status                      0\n",
              "tagline                   597\n",
              "title                       0\n",
              "Keywords                  276\n",
              "cast                       13\n",
              "crew                       16\n",
              "revenue                     0\n",
              "dtype: int64"
            ]
          },
          "metadata": {},
          "execution_count": 443
        }
      ]
    },
    {
      "cell_type": "code",
      "source": [
        "testData.isnull().sum()"
      ],
      "metadata": {
        "colab": {
          "base_uri": "https://localhost:8080/"
        },
        "id": "puIdi5OxJqdk",
        "outputId": "c428419e-16cb-4b7b-d841-5ab424340078"
      },
      "execution_count": null,
      "outputs": [
        {
          "output_type": "execute_result",
          "data": {
            "text/plain": [
              "id                          0\n",
              "belongs_to_collection    3521\n",
              "budget                      0\n",
              "genres                     16\n",
              "homepage                 2978\n",
              "imdb_id                     0\n",
              "original_language           0\n",
              "original_title              0\n",
              "overview                   14\n",
              "popularity                  0\n",
              "poster_path                 1\n",
              "production_companies      258\n",
              "production_countries      102\n",
              "release_date                1\n",
              "runtime                     4\n",
              "spoken_languages           42\n",
              "status                      2\n",
              "tagline                   863\n",
              "title                       3\n",
              "Keywords                  393\n",
              "cast                       13\n",
              "crew                       22\n",
              "dtype: int64"
            ]
          },
          "metadata": {},
          "execution_count": 444
        }
      ]
    },
    {
      "cell_type": "code",
      "source": [
        "def get_dict(s):\n",
        "    try:\n",
        "        x = eval(s)\n",
        "    except:\n",
        "        x = {}\n",
        "    return x"
      ],
      "metadata": {
        "id": "QuHZI25tJrq-"
      },
      "execution_count": null,
      "outputs": []
    },
    {
      "cell_type": "code",
      "source": [
        "print( len(trainData[trainData['budget'] < 10000] ) )"
      ],
      "metadata": {
        "colab": {
          "base_uri": "https://localhost:8080/"
        },
        "id": "R6vYGoMQNA7t",
        "outputId": "7f48b4f3-48c7-497a-8672-4bbf2661ed9f"
      },
      "execution_count": null,
      "outputs": [
        {
          "output_type": "stream",
          "name": "stdout",
          "text": [
            "835\n"
          ]
        }
      ]
    },
    {
      "cell_type": "code",
      "source": [
        "trainData = trainData[trainData['budget'] >= 100000]"
      ],
      "metadata": {
        "id": "VCVnPg_JNOkq"
      },
      "execution_count": null,
      "outputs": []
    },
    {
      "cell_type": "code",
      "source": [
        "MEAN = trainData['budget'].mean()"
      ],
      "metadata": {
        "id": "omXLDhpCNR3X"
      },
      "execution_count": null,
      "outputs": []
    },
    {
      "cell_type": "code",
      "source": [
        "trainData['budget']= trainData['budget'].apply(lambda x : x+MEAN if x<100000  else x)"
      ],
      "metadata": {
        "id": "vnAOd2BvNTz1"
      },
      "execution_count": null,
      "outputs": []
    },
    {
      "cell_type": "markdown",
      "source": [],
      "metadata": {
        "id": "E6_tc4gjNa8j"
      }
    },
    {
      "cell_type": "code",
      "source": [
        "trainData['log_budget'] = np.log1p(trainData['budget'])\n",
        "testData['log_budget'] = np.log1p(testData['budget'])"
      ],
      "metadata": {
        "id": "l02RLNZbNZ09"
      },
      "execution_count": null,
      "outputs": []
    },
    {
      "cell_type": "markdown",
      "source": [
        "# Generos"
      ],
      "metadata": {
        "id": "ZRVjBvgIO3sA"
      }
    },
    {
      "cell_type": "code",
      "source": [
        "j = 0\n",
        "trainData['genre_Count'] = 0\n",
        "for i in trainData['genres']:\n",
        "    d = get_dict(i)\n",
        "    if d != {}:\n",
        "        \n",
        "        trainData['genre_Count'][j] = len(d)\n",
        "    else:\n",
        "        trainData['genre_Count'][j] = 0 \n",
        "    j += 1\n",
        "\n",
        "j = 0\n",
        "testData['genre_Count'] = 0\n",
        "for i in testData['genres']:\n",
        "    d = get_dict(i)\n",
        "    if d != {}:\n",
        "        \n",
        "        testData['genre_Count'][j] = len(d)\n",
        "    else:\n",
        "        testData['genre_Count'][j] = 0 \n",
        "    j += 1\n",
        "trainData.drop(['genres'], axis=1, inplace=True)\n",
        "testData.drop(['genres'], axis=1, inplace=True)\n",
        "trainData.head()"
      ],
      "metadata": {
        "colab": {
          "base_uri": "https://localhost:8080/",
          "height": 1000
        },
        "id": "jeOXBmHINwLX",
        "outputId": "f8afbb66-5ab4-486a-a5c9-0d68e2a0951c"
      },
      "execution_count": null,
      "outputs": [
        {
          "output_type": "stream",
          "name": "stderr",
          "text": [
            "/usr/local/lib/python3.7/dist-packages/ipykernel_launcher.py:7: SettingWithCopyWarning: \n",
            "A value is trying to be set on a copy of a slice from a DataFrame\n",
            "\n",
            "See the caveats in the documentation: https://pandas.pydata.org/pandas-docs/stable/user_guide/indexing.html#returning-a-view-versus-a-copy\n",
            "  import sys\n",
            "/usr/local/lib/python3.7/dist-packages/ipykernel_launcher.py:9: SettingWithCopyWarning: \n",
            "A value is trying to be set on a copy of a slice from a DataFrame\n",
            "\n",
            "See the caveats in the documentation: https://pandas.pydata.org/pandas-docs/stable/user_guide/indexing.html#returning-a-view-versus-a-copy\n",
            "  if __name__ == '__main__':\n",
            "/usr/local/lib/python3.7/dist-packages/ipykernel_launcher.py:18: SettingWithCopyWarning: \n",
            "A value is trying to be set on a copy of a slice from a DataFrame\n",
            "\n",
            "See the caveats in the documentation: https://pandas.pydata.org/pandas-docs/stable/user_guide/indexing.html#returning-a-view-versus-a-copy\n",
            "/usr/local/lib/python3.7/dist-packages/ipykernel_launcher.py:20: SettingWithCopyWarning: \n",
            "A value is trying to be set on a copy of a slice from a DataFrame\n",
            "\n",
            "See the caveats in the documentation: https://pandas.pydata.org/pandas-docs/stable/user_guide/indexing.html#returning-a-view-versus-a-copy\n"
          ]
        },
        {
          "output_type": "execute_result",
          "data": {
            "text/plain": [
              "   id                              belongs_to_collection    budget  \\\n",
              "0   1  [{'id': 313576, 'name': 'Hot Tub Time Machine ...  14000000   \n",
              "1   2  [{'id': 107674, 'name': 'The Princess Diaries ...  40000000   \n",
              "2   3                                                NaN   3300000   \n",
              "3   4                                                NaN   1200000   \n",
              "5   6                                                NaN   8000000   \n",
              "\n",
              "                            homepage    imdb_id original_language  \\\n",
              "0                                NaN  tt2637294                en   \n",
              "1                                NaN  tt0368933                en   \n",
              "2  http://sonyclassics.com/whiplash/  tt2582802                en   \n",
              "3         http://kahaanithefilm.com/  tt1821480                hi   \n",
              "5                                NaN  tt0093743                en   \n",
              "\n",
              "                             original_title  \\\n",
              "0                    Hot Tub Time Machine 2   \n",
              "1  The Princess Diaries 2: Royal Engagement   \n",
              "2                                  Whiplash   \n",
              "3                                   Kahaani   \n",
              "5    Pinocchio and the Emperor of the Night   \n",
              "\n",
              "                                            overview  popularity  \\\n",
              "0  When Lou, who has become the \"father of the In...    6.575393   \n",
              "1  Mia Thermopolis is now a college graduate and ...    8.248895   \n",
              "2  Under the direction of a ruthless instructor, ...   64.299990   \n",
              "3  Vidya Bagchi (Vidya Balan) arrives in Kolkata ...    3.174936   \n",
              "5  Pinocchio and his friends, a glow worm and a m...    0.743274   \n",
              "\n",
              "                        poster_path  ...  \\\n",
              "0  /tQtWuwvMf0hCc2QR2tkolwl7c3c.jpg  ...   \n",
              "1  /w9Z7A0GHEhIp7etpj0vyKOeU1Wx.jpg  ...   \n",
              "2  /lIv1QinFqz4dlp5U4lQ6HaiskOZ.jpg  ...   \n",
              "3  /aTXRaPrWSinhcmCrcfJK17urp3F.jpg  ...   \n",
              "5  /6IDqA1D2NBIVhzEEaMMRL28iBrq.jpg  ...   \n",
              "\n",
              "                                    spoken_languages    status  \\\n",
              "0           [{'iso_639_1': 'en', 'name': 'English'}]  Released   \n",
              "1           [{'iso_639_1': 'en', 'name': 'English'}]  Released   \n",
              "2           [{'iso_639_1': 'en', 'name': 'English'}]  Released   \n",
              "3  [{'iso_639_1': 'en', 'name': 'English'}, {'iso...  Released   \n",
              "5           [{'iso_639_1': 'en', 'name': 'English'}]  Released   \n",
              "\n",
              "                                             tagline  \\\n",
              "0  The Laws of Space and Time are About to be Vio...   \n",
              "1  It can take a lifetime to find true love; she'...   \n",
              "2    The road to greatness can take you to the edge.   \n",
              "3                                                NaN   \n",
              "5                                                NaN   \n",
              "\n",
              "                                      title  \\\n",
              "0                    Hot Tub Time Machine 2   \n",
              "1  The Princess Diaries 2: Royal Engagement   \n",
              "2                                  Whiplash   \n",
              "3                                   Kahaani   \n",
              "5    Pinocchio and the Emperor of the Night   \n",
              "\n",
              "                                            Keywords  \\\n",
              "0  [{'id': 4379, 'name': 'time travel'}, {'id': 9...   \n",
              "1  [{'id': 2505, 'name': 'coronation'}, {'id': 42...   \n",
              "2  [{'id': 1416, 'name': 'jazz'}, {'id': 1523, 'n...   \n",
              "3  [{'id': 10092, 'name': 'mystery'}, {'id': 1054...   \n",
              "5                                                NaN   \n",
              "\n",
              "                                                cast  \\\n",
              "0  [{'cast_id': 4, 'character': 'Lou', 'credit_id...   \n",
              "1  [{'cast_id': 1, 'character': 'Mia Thermopolis'...   \n",
              "2  [{'cast_id': 5, 'character': 'Andrew Neimann',...   \n",
              "3  [{'cast_id': 1, 'character': 'Vidya Bagchi', '...   \n",
              "5  [{'cast_id': 6, 'character': 'Pinocchio (voice...   \n",
              "\n",
              "                                                crew   revenue log_budget  \\\n",
              "0  [{'credit_id': '59ac067c92514107af02c8c8', 'de...  12314651  16.454568   \n",
              "1  [{'credit_id': '52fe43fe9251416c7502563d', 'de...  95149435  17.504390   \n",
              "2  [{'credit_id': '54d5356ec3a3683ba0000039', 'de...  13092000  15.009433   \n",
              "3  [{'credit_id': '52fe48779251416c9108d6eb', 'de...  16000000  13.997833   \n",
              "5  [{'credit_id': '52fe46f49251416c9106558b', 'de...   3261638  15.894952   \n",
              "\n",
              "  genre_Count  \n",
              "0           1  \n",
              "1           4  \n",
              "2           1  \n",
              "3           2  \n",
              "5           2  \n",
              "\n",
              "[5 rows x 24 columns]"
            ],
            "text/html": [
              "\n",
              "  <div id=\"df-a27c14db-4de0-4ee1-a8cc-b945b60ca606\">\n",
              "    <div class=\"colab-df-container\">\n",
              "      <div>\n",
              "<style scoped>\n",
              "    .dataframe tbody tr th:only-of-type {\n",
              "        vertical-align: middle;\n",
              "    }\n",
              "\n",
              "    .dataframe tbody tr th {\n",
              "        vertical-align: top;\n",
              "    }\n",
              "\n",
              "    .dataframe thead th {\n",
              "        text-align: right;\n",
              "    }\n",
              "</style>\n",
              "<table border=\"1\" class=\"dataframe\">\n",
              "  <thead>\n",
              "    <tr style=\"text-align: right;\">\n",
              "      <th></th>\n",
              "      <th>id</th>\n",
              "      <th>belongs_to_collection</th>\n",
              "      <th>budget</th>\n",
              "      <th>homepage</th>\n",
              "      <th>imdb_id</th>\n",
              "      <th>original_language</th>\n",
              "      <th>original_title</th>\n",
              "      <th>overview</th>\n",
              "      <th>popularity</th>\n",
              "      <th>poster_path</th>\n",
              "      <th>...</th>\n",
              "      <th>spoken_languages</th>\n",
              "      <th>status</th>\n",
              "      <th>tagline</th>\n",
              "      <th>title</th>\n",
              "      <th>Keywords</th>\n",
              "      <th>cast</th>\n",
              "      <th>crew</th>\n",
              "      <th>revenue</th>\n",
              "      <th>log_budget</th>\n",
              "      <th>genre_Count</th>\n",
              "    </tr>\n",
              "  </thead>\n",
              "  <tbody>\n",
              "    <tr>\n",
              "      <th>0</th>\n",
              "      <td>1</td>\n",
              "      <td>[{'id': 313576, 'name': 'Hot Tub Time Machine ...</td>\n",
              "      <td>14000000</td>\n",
              "      <td>NaN</td>\n",
              "      <td>tt2637294</td>\n",
              "      <td>en</td>\n",
              "      <td>Hot Tub Time Machine 2</td>\n",
              "      <td>When Lou, who has become the \"father of the In...</td>\n",
              "      <td>6.575393</td>\n",
              "      <td>/tQtWuwvMf0hCc2QR2tkolwl7c3c.jpg</td>\n",
              "      <td>...</td>\n",
              "      <td>[{'iso_639_1': 'en', 'name': 'English'}]</td>\n",
              "      <td>Released</td>\n",
              "      <td>The Laws of Space and Time are About to be Vio...</td>\n",
              "      <td>Hot Tub Time Machine 2</td>\n",
              "      <td>[{'id': 4379, 'name': 'time travel'}, {'id': 9...</td>\n",
              "      <td>[{'cast_id': 4, 'character': 'Lou', 'credit_id...</td>\n",
              "      <td>[{'credit_id': '59ac067c92514107af02c8c8', 'de...</td>\n",
              "      <td>12314651</td>\n",
              "      <td>16.454568</td>\n",
              "      <td>1</td>\n",
              "    </tr>\n",
              "    <tr>\n",
              "      <th>1</th>\n",
              "      <td>2</td>\n",
              "      <td>[{'id': 107674, 'name': 'The Princess Diaries ...</td>\n",
              "      <td>40000000</td>\n",
              "      <td>NaN</td>\n",
              "      <td>tt0368933</td>\n",
              "      <td>en</td>\n",
              "      <td>The Princess Diaries 2: Royal Engagement</td>\n",
              "      <td>Mia Thermopolis is now a college graduate and ...</td>\n",
              "      <td>8.248895</td>\n",
              "      <td>/w9Z7A0GHEhIp7etpj0vyKOeU1Wx.jpg</td>\n",
              "      <td>...</td>\n",
              "      <td>[{'iso_639_1': 'en', 'name': 'English'}]</td>\n",
              "      <td>Released</td>\n",
              "      <td>It can take a lifetime to find true love; she'...</td>\n",
              "      <td>The Princess Diaries 2: Royal Engagement</td>\n",
              "      <td>[{'id': 2505, 'name': 'coronation'}, {'id': 42...</td>\n",
              "      <td>[{'cast_id': 1, 'character': 'Mia Thermopolis'...</td>\n",
              "      <td>[{'credit_id': '52fe43fe9251416c7502563d', 'de...</td>\n",
              "      <td>95149435</td>\n",
              "      <td>17.504390</td>\n",
              "      <td>4</td>\n",
              "    </tr>\n",
              "    <tr>\n",
              "      <th>2</th>\n",
              "      <td>3</td>\n",
              "      <td>NaN</td>\n",
              "      <td>3300000</td>\n",
              "      <td>http://sonyclassics.com/whiplash/</td>\n",
              "      <td>tt2582802</td>\n",
              "      <td>en</td>\n",
              "      <td>Whiplash</td>\n",
              "      <td>Under the direction of a ruthless instructor, ...</td>\n",
              "      <td>64.299990</td>\n",
              "      <td>/lIv1QinFqz4dlp5U4lQ6HaiskOZ.jpg</td>\n",
              "      <td>...</td>\n",
              "      <td>[{'iso_639_1': 'en', 'name': 'English'}]</td>\n",
              "      <td>Released</td>\n",
              "      <td>The road to greatness can take you to the edge.</td>\n",
              "      <td>Whiplash</td>\n",
              "      <td>[{'id': 1416, 'name': 'jazz'}, {'id': 1523, 'n...</td>\n",
              "      <td>[{'cast_id': 5, 'character': 'Andrew Neimann',...</td>\n",
              "      <td>[{'credit_id': '54d5356ec3a3683ba0000039', 'de...</td>\n",
              "      <td>13092000</td>\n",
              "      <td>15.009433</td>\n",
              "      <td>1</td>\n",
              "    </tr>\n",
              "    <tr>\n",
              "      <th>3</th>\n",
              "      <td>4</td>\n",
              "      <td>NaN</td>\n",
              "      <td>1200000</td>\n",
              "      <td>http://kahaanithefilm.com/</td>\n",
              "      <td>tt1821480</td>\n",
              "      <td>hi</td>\n",
              "      <td>Kahaani</td>\n",
              "      <td>Vidya Bagchi (Vidya Balan) arrives in Kolkata ...</td>\n",
              "      <td>3.174936</td>\n",
              "      <td>/aTXRaPrWSinhcmCrcfJK17urp3F.jpg</td>\n",
              "      <td>...</td>\n",
              "      <td>[{'iso_639_1': 'en', 'name': 'English'}, {'iso...</td>\n",
              "      <td>Released</td>\n",
              "      <td>NaN</td>\n",
              "      <td>Kahaani</td>\n",
              "      <td>[{'id': 10092, 'name': 'mystery'}, {'id': 1054...</td>\n",
              "      <td>[{'cast_id': 1, 'character': 'Vidya Bagchi', '...</td>\n",
              "      <td>[{'credit_id': '52fe48779251416c9108d6eb', 'de...</td>\n",
              "      <td>16000000</td>\n",
              "      <td>13.997833</td>\n",
              "      <td>2</td>\n",
              "    </tr>\n",
              "    <tr>\n",
              "      <th>5</th>\n",
              "      <td>6</td>\n",
              "      <td>NaN</td>\n",
              "      <td>8000000</td>\n",
              "      <td>NaN</td>\n",
              "      <td>tt0093743</td>\n",
              "      <td>en</td>\n",
              "      <td>Pinocchio and the Emperor of the Night</td>\n",
              "      <td>Pinocchio and his friends, a glow worm and a m...</td>\n",
              "      <td>0.743274</td>\n",
              "      <td>/6IDqA1D2NBIVhzEEaMMRL28iBrq.jpg</td>\n",
              "      <td>...</td>\n",
              "      <td>[{'iso_639_1': 'en', 'name': 'English'}]</td>\n",
              "      <td>Released</td>\n",
              "      <td>NaN</td>\n",
              "      <td>Pinocchio and the Emperor of the Night</td>\n",
              "      <td>NaN</td>\n",
              "      <td>[{'cast_id': 6, 'character': 'Pinocchio (voice...</td>\n",
              "      <td>[{'credit_id': '52fe46f49251416c9106558b', 'de...</td>\n",
              "      <td>3261638</td>\n",
              "      <td>15.894952</td>\n",
              "      <td>2</td>\n",
              "    </tr>\n",
              "  </tbody>\n",
              "</table>\n",
              "<p>5 rows × 24 columns</p>\n",
              "</div>\n",
              "      <button class=\"colab-df-convert\" onclick=\"convertToInteractive('df-a27c14db-4de0-4ee1-a8cc-b945b60ca606')\"\n",
              "              title=\"Convert this dataframe to an interactive table.\"\n",
              "              style=\"display:none;\">\n",
              "        \n",
              "  <svg xmlns=\"http://www.w3.org/2000/svg\" height=\"24px\"viewBox=\"0 0 24 24\"\n",
              "       width=\"24px\">\n",
              "    <path d=\"M0 0h24v24H0V0z\" fill=\"none\"/>\n",
              "    <path d=\"M18.56 5.44l.94 2.06.94-2.06 2.06-.94-2.06-.94-.94-2.06-.94 2.06-2.06.94zm-11 1L8.5 8.5l.94-2.06 2.06-.94-2.06-.94L8.5 2.5l-.94 2.06-2.06.94zm10 10l.94 2.06.94-2.06 2.06-.94-2.06-.94-.94-2.06-.94 2.06-2.06.94z\"/><path d=\"M17.41 7.96l-1.37-1.37c-.4-.4-.92-.59-1.43-.59-.52 0-1.04.2-1.43.59L10.3 9.45l-7.72 7.72c-.78.78-.78 2.05 0 2.83L4 21.41c.39.39.9.59 1.41.59.51 0 1.02-.2 1.41-.59l7.78-7.78 2.81-2.81c.8-.78.8-2.07 0-2.86zM5.41 20L4 18.59l7.72-7.72 1.47 1.35L5.41 20z\"/>\n",
              "  </svg>\n",
              "      </button>\n",
              "      \n",
              "  <style>\n",
              "    .colab-df-container {\n",
              "      display:flex;\n",
              "      flex-wrap:wrap;\n",
              "      gap: 12px;\n",
              "    }\n",
              "\n",
              "    .colab-df-convert {\n",
              "      background-color: #E8F0FE;\n",
              "      border: none;\n",
              "      border-radius: 50%;\n",
              "      cursor: pointer;\n",
              "      display: none;\n",
              "      fill: #1967D2;\n",
              "      height: 32px;\n",
              "      padding: 0 0 0 0;\n",
              "      width: 32px;\n",
              "    }\n",
              "\n",
              "    .colab-df-convert:hover {\n",
              "      background-color: #E2EBFA;\n",
              "      box-shadow: 0px 1px 2px rgba(60, 64, 67, 0.3), 0px 1px 3px 1px rgba(60, 64, 67, 0.15);\n",
              "      fill: #174EA6;\n",
              "    }\n",
              "\n",
              "    [theme=dark] .colab-df-convert {\n",
              "      background-color: #3B4455;\n",
              "      fill: #D2E3FC;\n",
              "    }\n",
              "\n",
              "    [theme=dark] .colab-df-convert:hover {\n",
              "      background-color: #434B5C;\n",
              "      box-shadow: 0px 1px 3px 1px rgba(0, 0, 0, 0.15);\n",
              "      filter: drop-shadow(0px 1px 2px rgba(0, 0, 0, 0.3));\n",
              "      fill: #FFFFFF;\n",
              "    }\n",
              "  </style>\n",
              "\n",
              "      <script>\n",
              "        const buttonEl =\n",
              "          document.querySelector('#df-a27c14db-4de0-4ee1-a8cc-b945b60ca606 button.colab-df-convert');\n",
              "        buttonEl.style.display =\n",
              "          google.colab.kernel.accessAllowed ? 'block' : 'none';\n",
              "\n",
              "        async function convertToInteractive(key) {\n",
              "          const element = document.querySelector('#df-a27c14db-4de0-4ee1-a8cc-b945b60ca606');\n",
              "          const dataTable =\n",
              "            await google.colab.kernel.invokeFunction('convertToInteractive',\n",
              "                                                     [key], {});\n",
              "          if (!dataTable) return;\n",
              "\n",
              "          const docLinkHtml = 'Like what you see? Visit the ' +\n",
              "            '<a target=\"_blank\" href=https://colab.research.google.com/notebooks/data_table.ipynb>data table notebook</a>'\n",
              "            + ' to learn more about interactive tables.';\n",
              "          element.innerHTML = '';\n",
              "          dataTable['output_type'] = 'display_data';\n",
              "          await google.colab.output.renderOutput(dataTable, element);\n",
              "          const docLink = document.createElement('div');\n",
              "          docLink.innerHTML = docLinkHtml;\n",
              "          element.appendChild(docLink);\n",
              "        }\n",
              "      </script>\n",
              "    </div>\n",
              "  </div>\n",
              "  "
            ]
          },
          "metadata": {},
          "execution_count": 451
        }
      ]
    },
    {
      "cell_type": "markdown",
      "source": [
        "# Eliminando columnas "
      ],
      "metadata": {
        "id": "fEXNKlt7Pmof"
      }
    },
    {
      "cell_type": "code",
      "source": [
        "# Elimiando HomePage\n",
        "trainData.drop(['homepage'], axis=1, inplace=True)\n",
        "testData.drop(['homepage'], axis=1, inplace=True)\n",
        "# Elimiando imdb_id\n",
        "trainData.drop(['imdb_id'], axis=1, inplace=True)\n",
        "testData.drop(['imdb_id'], axis=1, inplace=True)\n",
        "# Elimiando original_title\n",
        "trainData.drop(['original_title','overview'], axis=1, inplace=True)\n",
        "testData.drop(['original_title','overview'], axis=1, inplace=True)\n",
        "# Elimiando poster_path\n",
        "trainData.drop(['poster_path'], axis=1, inplace=True)\n",
        "testData.drop(['poster_path'], axis=1, inplace=True)\n",
        "# Elimiando spoken_languages\n"
      ],
      "metadata": {
        "id": "6znjOPlQOpFx"
      },
      "execution_count": null,
      "outputs": []
    },
    {
      "cell_type": "markdown",
      "source": [
        "# Lenguaje Original"
      ],
      "metadata": {
        "id": "9P7nBPSoPv-I"
      }
    },
    {
      "cell_type": "markdown",
      "source": [
        "Utilizaremos las peliculas con un lenguaje original en ingles = EN , Ya que es el mayor porcentaje que hay en el dataset"
      ],
      "metadata": {
        "id": "tfCGIhkYQGfh"
      }
    },
    {
      "cell_type": "code",
      "source": [
        "#Train Data\n",
        "for i in trainData['original_language']:\n",
        "    if(i=='en'):\n",
        "        trainData['Has_En']=1\n",
        "    else:\n",
        "        trainData['Has_En']=0\n",
        "\n",
        "#Test Data\n",
        "for i in testData['original_language']:\n",
        "    if(i=='en'):\n",
        "        testData['Has_En']=1\n",
        "    else:\n",
        "        testData['Has_En']=0\n",
        "\n",
        "\n",
        "trainData.drop(['original_language'], axis=1, inplace=True)\n",
        "testData.drop(['original_language'], axis=1, inplace=True)"
      ],
      "metadata": {
        "id": "U7zLKoiPQGG1"
      },
      "execution_count": null,
      "outputs": []
    },
    {
      "cell_type": "code",
      "source": [
        "for i,e in enumerate(trainData[\"production_companies\"][:5]):\n",
        "    print(i,e)\n",
        "\n",
        "num_production_companies=pd.DataFrame(columns=['num_production_companies'])\n",
        "trainData=pd.concat([trainData,num_production_companies],axis=1)\n",
        "testData=pd.concat([testData,num_production_companies],axis=1)\n",
        "\n",
        "j=0\n",
        "for i in trainData[\"production_companies\"]:\n",
        "    d=get_dict(i)\n",
        "    if len(d)!=0:\n",
        "        trainData['num_production_companies'][j]=len(d)\n",
        "    else:\n",
        "        trainData['num_production_companies'][j]=np.NaN\n",
        "    j+=1\n",
        "j=0\n",
        "for i in testData[\"production_companies\"]:\n",
        "    d=get_dict(i)\n",
        "    if len(d)!=0:\n",
        "        testData['num_production_companies'][j]=len(d)\n",
        "    else:\n",
        "        testData['num_production_companies'][j]=np.NaN\n",
        "    j+=1"
      ],
      "metadata": {
        "colab": {
          "base_uri": "https://localhost:8080/"
        },
        "id": "zq7vELRdSfFV",
        "outputId": "4a1c8d74-2520-4ef8-a8d6-11375c289437"
      },
      "execution_count": null,
      "outputs": [
        {
          "output_type": "stream",
          "name": "stdout",
          "text": [
            "0 [{'name': 'Paramount Pictures', 'id': 4}, {'name': 'United Artists', 'id': 60}, {'name': 'Metro-Goldwyn-Mayer (MGM)', 'id': 8411}]\n",
            "1 [{'name': 'Walt Disney Pictures', 'id': 2}]\n",
            "2 [{'name': 'Bold Films', 'id': 2266}, {'name': 'Blumhouse Productions', 'id': 3172}, {'name': 'Right of Way Films', 'id': 32157}]\n",
            "3 nan\n",
            "4 nan\n"
          ]
        },
        {
          "output_type": "stream",
          "name": "stderr",
          "text": [
            "/usr/local/lib/python3.7/dist-packages/ipykernel_launcher.py:12: SettingWithCopyWarning: \n",
            "A value is trying to be set on a copy of a slice from a DataFrame\n",
            "\n",
            "See the caveats in the documentation: https://pandas.pydata.org/pandas-docs/stable/user_guide/indexing.html#returning-a-view-versus-a-copy\n",
            "  if sys.path[0] == '':\n",
            "/usr/local/lib/python3.7/dist-packages/ipykernel_launcher.py:14: SettingWithCopyWarning: \n",
            "A value is trying to be set on a copy of a slice from a DataFrame\n",
            "\n",
            "See the caveats in the documentation: https://pandas.pydata.org/pandas-docs/stable/user_guide/indexing.html#returning-a-view-versus-a-copy\n",
            "  \n",
            "/usr/local/lib/python3.7/dist-packages/ipykernel_launcher.py:22: SettingWithCopyWarning: \n",
            "A value is trying to be set on a copy of a slice from a DataFrame\n",
            "\n",
            "See the caveats in the documentation: https://pandas.pydata.org/pandas-docs/stable/user_guide/indexing.html#returning-a-view-versus-a-copy\n",
            "/usr/local/lib/python3.7/dist-packages/ipykernel_launcher.py:20: SettingWithCopyWarning: \n",
            "A value is trying to be set on a copy of a slice from a DataFrame\n",
            "\n",
            "See the caveats in the documentation: https://pandas.pydata.org/pandas-docs/stable/user_guide/indexing.html#returning-a-view-versus-a-copy\n"
          ]
        }
      ]
    },
    {
      "cell_type": "code",
      "source": [
        "trainData.drop(['production_companies'], axis=1, inplace=True)\n",
        "testData.drop(['production_companies'], axis=1, inplace=True)\n"
      ],
      "metadata": {
        "id": "O0EJWcieTM1N"
      },
      "execution_count": null,
      "outputs": []
    },
    {
      "cell_type": "code",
      "source": [
        "trainData[\"num_production_companies\"].isnull().sum()\n"
      ],
      "metadata": {
        "colab": {
          "base_uri": "https://localhost:8080/"
        },
        "id": "AK6r4XP4T7pd",
        "outputId": "5dddab9e-9f78-4d6f-8026-179c6da99ef9"
      },
      "execution_count": null,
      "outputs": [
        {
          "output_type": "execute_result",
          "data": {
            "text/plain": [
              "668"
            ]
          },
          "metadata": {},
          "execution_count": 456
        }
      ]
    },
    {
      "cell_type": "code",
      "source": [
        "trainData['num_production_companies']=trainData['num_production_companies'].fillna(trainData['num_production_companies'].mean()).round()\n",
        "testData['num_production_companies']=testData['num_production_companies'].fillna(testData['num_production_companies'].mean()).round()"
      ],
      "metadata": {
        "id": "hr3xQIrmUPAE"
      },
      "execution_count": null,
      "outputs": []
    },
    {
      "cell_type": "markdown",
      "source": [
        "Paises de Produccion "
      ],
      "metadata": {
        "id": "crrHvP7HU49R"
      }
    },
    {
      "cell_type": "code",
      "source": [
        "for i,e in enumerate(trainData[\"production_countries\"][:5]):\n",
        "    print(i,e)"
      ],
      "metadata": {
        "colab": {
          "base_uri": "https://localhost:8080/"
        },
        "id": "smFFIUn4fdE8",
        "outputId": "c3af6657-1260-4af1-b7ae-0fdb46fd9bad"
      },
      "execution_count": null,
      "outputs": [
        {
          "output_type": "stream",
          "name": "stdout",
          "text": [
            "0 [{'iso_3166_1': 'US', 'name': 'United States of America'}]\n",
            "1 [{'iso_3166_1': 'US', 'name': 'United States of America'}]\n",
            "2 [{'iso_3166_1': 'US', 'name': 'United States of America'}]\n",
            "3 [{'iso_3166_1': 'IN', 'name': 'India'}]\n",
            "4 nan\n"
          ]
        }
      ]
    },
    {
      "cell_type": "code",
      "source": [
        "prodect_countries=pd.DataFrame(columns=[\"production_country\"])\n",
        "trainData=pd.concat([trainData,prodect_countries],axis=1)\n",
        "testData=pd.concat([testData,prodect_countries],axis=1)"
      ],
      "metadata": {
        "id": "zpkVhikEfh3x"
      },
      "execution_count": null,
      "outputs": []
    },
    {
      "cell_type": "code",
      "source": [
        "j = 0\n",
        "for i in trainData['production_countries']:\n",
        "    d = get_dict(i)\n",
        "    if d != {}:\n",
        "        if len(d) > 1:\n",
        "            countires = []\n",
        "            for k in range(len(d)):\n",
        "                countires.append(d[k]['name'])\n",
        "            if 'United States of America' in countires:\n",
        "                trainData['production_country'][j] = 'United States of America'\n",
        "        else:\n",
        "            trainData['production_country'][j] = d[0]['name']\n",
        "    else:\n",
        "        trainData['production_country'][j] = np.NaN\n",
        "    j += 1\n",
        "    \n",
        "j = 0\n",
        "for i in testData['production_countries']:\n",
        "    d = get_dict(i)\n",
        "    if d != {}:\n",
        "        if len(d) > 1:\n",
        "            countires = []\n",
        "            for k in range(len(d)):\n",
        "                countires.append(d[k]['name'])\n",
        "            if 'United States of America' in countires:\n",
        "                testData['production_country'][j] = 'United States of America'\n",
        "        else:\n",
        "            testData['production_country'][j] = d[0]['name']\n",
        "    else:\n",
        "        testData['production_country'][j] = np.NaN\n",
        "    j += 1"
      ],
      "metadata": {
        "colab": {
          "base_uri": "https://localhost:8080/"
        },
        "id": "0F8Mh3ORVHo-",
        "outputId": "e051ac6e-c692-4b32-ab1c-f6afde41e34d"
      },
      "execution_count": null,
      "outputs": [
        {
          "output_type": "stream",
          "name": "stderr",
          "text": [
            "/usr/local/lib/python3.7/dist-packages/ipykernel_launcher.py:12: SettingWithCopyWarning: \n",
            "A value is trying to be set on a copy of a slice from a DataFrame\n",
            "\n",
            "See the caveats in the documentation: https://pandas.pydata.org/pandas-docs/stable/user_guide/indexing.html#returning-a-view-versus-a-copy\n",
            "  if sys.path[0] == '':\n",
            "/usr/local/lib/python3.7/dist-packages/ipykernel_launcher.py:14: SettingWithCopyWarning: \n",
            "A value is trying to be set on a copy of a slice from a DataFrame\n",
            "\n",
            "See the caveats in the documentation: https://pandas.pydata.org/pandas-docs/stable/user_guide/indexing.html#returning-a-view-versus-a-copy\n",
            "  \n",
            "/usr/local/lib/python3.7/dist-packages/ipykernel_launcher.py:10: SettingWithCopyWarning: \n",
            "A value is trying to be set on a copy of a slice from a DataFrame\n",
            "\n",
            "See the caveats in the documentation: https://pandas.pydata.org/pandas-docs/stable/user_guide/indexing.html#returning-a-view-versus-a-copy\n",
            "  # Remove the CWD from sys.path while we load stuff.\n",
            "/usr/local/lib/python3.7/dist-packages/ipykernel_launcher.py:26: SettingWithCopyWarning: \n",
            "A value is trying to be set on a copy of a slice from a DataFrame\n",
            "\n",
            "See the caveats in the documentation: https://pandas.pydata.org/pandas-docs/stable/user_guide/indexing.html#returning-a-view-versus-a-copy\n",
            "/usr/local/lib/python3.7/dist-packages/ipykernel_launcher.py:28: SettingWithCopyWarning: \n",
            "A value is trying to be set on a copy of a slice from a DataFrame\n",
            "\n",
            "See the caveats in the documentation: https://pandas.pydata.org/pandas-docs/stable/user_guide/indexing.html#returning-a-view-versus-a-copy\n",
            "/usr/local/lib/python3.7/dist-packages/ipykernel_launcher.py:30: SettingWithCopyWarning: \n",
            "A value is trying to be set on a copy of a slice from a DataFrame\n",
            "\n",
            "See the caveats in the documentation: https://pandas.pydata.org/pandas-docs/stable/user_guide/indexing.html#returning-a-view-versus-a-copy\n"
          ]
        }
      ]
    },
    {
      "cell_type": "code",
      "source": [
        "is_use_preduction=pd.DataFrame(columns=[\"is_use_preduction\"])\n",
        "trainData=pd.concat([trainData,is_use_preduction],axis=1)\n",
        "testData=pd.concat([testData,is_use_preduction],axis=1)"
      ],
      "metadata": {
        "id": "cSkptpcHVNY5"
      },
      "execution_count": null,
      "outputs": []
    },
    {
      "cell_type": "code",
      "source": [
        "j=0\n",
        "for i in trainData[\"production_country\"]:\n",
        "    if i=='United States of America':\n",
        "        trainData['is_use_preduction'][j]=1\n",
        "    elif str(i)=='NaN':\n",
        "        trainData['is_use_preduction'][j]=np.NaN\n",
        "    else:\n",
        "        trainData['is_use_preduction'][j]=0\n",
        "    j+=1\n",
        "j=0\n",
        "for i in testData[\"production_country\"]:\n",
        "    if i=='United States of America':\n",
        "        testData['is_use_preduction'][j]=1\n",
        "    elif str(i)=='NaN':\n",
        "        testData['is_use_preduction'][j]=np.NaN\n",
        "    else:\n",
        "        testData['is_use_preduction'][j]=0\n",
        "    j+=1"
      ],
      "metadata": {
        "colab": {
          "base_uri": "https://localhost:8080/"
        },
        "id": "gS2Oq7yNVQWp",
        "outputId": "225d59e2-3f5b-4b3e-9ded-6af3db243a16"
      },
      "execution_count": null,
      "outputs": [
        {
          "output_type": "stream",
          "name": "stderr",
          "text": [
            "/usr/local/lib/python3.7/dist-packages/ipykernel_launcher.py:4: SettingWithCopyWarning: \n",
            "A value is trying to be set on a copy of a slice from a DataFrame\n",
            "\n",
            "See the caveats in the documentation: https://pandas.pydata.org/pandas-docs/stable/user_guide/indexing.html#returning-a-view-versus-a-copy\n",
            "  after removing the cwd from sys.path.\n",
            "/usr/local/lib/python3.7/dist-packages/ipykernel_launcher.py:8: SettingWithCopyWarning: \n",
            "A value is trying to be set on a copy of a slice from a DataFrame\n",
            "\n",
            "See the caveats in the documentation: https://pandas.pydata.org/pandas-docs/stable/user_guide/indexing.html#returning-a-view-versus-a-copy\n",
            "  \n",
            "/usr/local/lib/python3.7/dist-packages/ipykernel_launcher.py:13: SettingWithCopyWarning: \n",
            "A value is trying to be set on a copy of a slice from a DataFrame\n",
            "\n",
            "See the caveats in the documentation: https://pandas.pydata.org/pandas-docs/stable/user_guide/indexing.html#returning-a-view-versus-a-copy\n",
            "  del sys.path[0]\n",
            "/usr/local/lib/python3.7/dist-packages/ipykernel_launcher.py:17: SettingWithCopyWarning: \n",
            "A value is trying to be set on a copy of a slice from a DataFrame\n",
            "\n",
            "See the caveats in the documentation: https://pandas.pydata.org/pandas-docs/stable/user_guide/indexing.html#returning-a-view-versus-a-copy\n"
          ]
        }
      ]
    },
    {
      "cell_type": "code",
      "source": [
        "trainData.drop(['production_countries','production_country'], axis=1, inplace=True)\n",
        "testData.drop(['production_countries','production_country'], axis=1, inplace=True)\n"
      ],
      "metadata": {
        "id": "7zsOoOLvVWkf"
      },
      "execution_count": null,
      "outputs": []
    },
    {
      "cell_type": "code",
      "source": [
        "trainData['is_use_preduction'].isnull().sum()"
      ],
      "metadata": {
        "colab": {
          "base_uri": "https://localhost:8080/"
        },
        "id": "yuBDIf0CWhYe",
        "outputId": "8fc529af-a5d2-4d6e-be79-ff469c53af10"
      },
      "execution_count": null,
      "outputs": [
        {
          "output_type": "execute_result",
          "data": {
            "text/plain": [
              "618"
            ]
          },
          "metadata": {},
          "execution_count": 464
        }
      ]
    },
    {
      "cell_type": "markdown",
      "source": [
        "runtime"
      ],
      "metadata": {
        "id": "oZW1bzTVVuVR"
      }
    },
    {
      "cell_type": "code",
      "source": [
        "for i,e in enumerate(trainData['runtime'][:5]):\n",
        "    print(i,e)\n",
        "\n",
        "trainData['runtime'].isnull().sum()"
      ],
      "metadata": {
        "colab": {
          "base_uri": "https://localhost:8080/"
        },
        "id": "8iffAuWsVt6q",
        "outputId": "520a1c29-ff6c-4024-85f7-8c5d63735728"
      },
      "execution_count": null,
      "outputs": [
        {
          "output_type": "stream",
          "name": "stdout",
          "text": [
            "0 93.0\n",
            "1 113.0\n",
            "2 105.0\n",
            "3 122.0\n",
            "4 83.0\n"
          ]
        },
        {
          "output_type": "execute_result",
          "data": {
            "text/plain": [
              "1"
            ]
          },
          "metadata": {},
          "execution_count": 465
        }
      ]
    },
    {
      "cell_type": "code",
      "source": [
        "trainData['runtime']=trainData['runtime'].fillna(trainData['runtime'].mean()).round()\n",
        "testData['runtime']=testData['runtime'].fillna(testData['runtime'].mean()).round()\n",
        "trainData['runtime'].isnull().sum()"
      ],
      "metadata": {
        "colab": {
          "base_uri": "https://localhost:8080/"
        },
        "id": "snF_ox_yW1YF",
        "outputId": "cc96676e-915c-4bea-c575-c427d697e18d"
      },
      "execution_count": null,
      "outputs": [
        {
          "output_type": "execute_result",
          "data": {
            "text/plain": [
              "0"
            ]
          },
          "metadata": {},
          "execution_count": 466
        }
      ]
    },
    {
      "cell_type": "code",
      "source": [
        "for i,e in enumerate(trainData['spoken_languages'][:5]):\n",
        "    print(i,e)"
      ],
      "metadata": {
        "colab": {
          "base_uri": "https://localhost:8080/"
        },
        "id": "fl8T8_s9XAc3",
        "outputId": "42f91168-fb74-4050-d55f-6d96c7fbbe8f"
      },
      "execution_count": null,
      "outputs": [
        {
          "output_type": "stream",
          "name": "stdout",
          "text": [
            "0 [{'iso_639_1': 'en', 'name': 'English'}]\n",
            "1 [{'iso_639_1': 'en', 'name': 'English'}]\n",
            "2 [{'iso_639_1': 'en', 'name': 'English'}]\n",
            "3 [{'iso_639_1': 'en', 'name': 'English'}, {'iso_639_1': 'hi', 'name': 'हिन्दी'}]\n",
            "4 [{'iso_639_1': 'en', 'name': 'English'}]\n"
          ]
        }
      ]
    },
    {
      "cell_type": "code",
      "source": [
        "number_of_spoken_languages = pd.DataFrame(columns=['number_of_spoken_languages'])\n",
        "trainData = pd.concat([trainData, number_of_spoken_languages], axis=1)\n",
        "testData = pd.concat([testData, number_of_spoken_languages], axis=1)"
      ],
      "metadata": {
        "id": "Pa9X690KXDKc"
      },
      "execution_count": null,
      "outputs": []
    },
    {
      "cell_type": "code",
      "source": [
        "j = 0\n",
        "for i in trainData['spoken_languages']:\n",
        "    d = get_dict(i)\n",
        "    if d != {}:\n",
        "        trainData['number_of_spoken_languages'][j] = len(d)\n",
        "    else:\n",
        "        trainData['number_of_spoken_languages'][j] = np.NaN\n",
        "    j += 1\n",
        "    \n",
        "j = 0\n",
        "for i in testData['spoken_languages']:\n",
        "    d = get_dict(i)\n",
        "    if d != {}:\n",
        "        testData['number_of_spoken_languages'][j] = len(d)\n",
        "    else:\n",
        "        testData['number_of_spoken_languages'][j] = np.NaN\n",
        "    j += 1"
      ],
      "metadata": {
        "colab": {
          "base_uri": "https://localhost:8080/"
        },
        "id": "x6pmGgUkXYc4",
        "outputId": "73c96d92-8606-41ea-9766-4f3c3544db6b"
      },
      "execution_count": null,
      "outputs": [
        {
          "output_type": "stream",
          "name": "stderr",
          "text": [
            "/usr/local/lib/python3.7/dist-packages/ipykernel_launcher.py:5: SettingWithCopyWarning: \n",
            "A value is trying to be set on a copy of a slice from a DataFrame\n",
            "\n",
            "See the caveats in the documentation: https://pandas.pydata.org/pandas-docs/stable/user_guide/indexing.html#returning-a-view-versus-a-copy\n",
            "  \"\"\"\n",
            "/usr/local/lib/python3.7/dist-packages/ipykernel_launcher.py:7: SettingWithCopyWarning: \n",
            "A value is trying to be set on a copy of a slice from a DataFrame\n",
            "\n",
            "See the caveats in the documentation: https://pandas.pydata.org/pandas-docs/stable/user_guide/indexing.html#returning-a-view-versus-a-copy\n",
            "  import sys\n",
            "/usr/local/lib/python3.7/dist-packages/ipykernel_launcher.py:14: SettingWithCopyWarning: \n",
            "A value is trying to be set on a copy of a slice from a DataFrame\n",
            "\n",
            "See the caveats in the documentation: https://pandas.pydata.org/pandas-docs/stable/user_guide/indexing.html#returning-a-view-versus-a-copy\n",
            "  \n",
            "/usr/local/lib/python3.7/dist-packages/ipykernel_launcher.py:16: SettingWithCopyWarning: \n",
            "A value is trying to be set on a copy of a slice from a DataFrame\n",
            "\n",
            "See the caveats in the documentation: https://pandas.pydata.org/pandas-docs/stable/user_guide/indexing.html#returning-a-view-versus-a-copy\n",
            "  app.launch_new_instance()\n"
          ]
        }
      ]
    },
    {
      "cell_type": "code",
      "source": [
        "trainData[\"number_of_spoken_languages\"].isnull().sum()"
      ],
      "metadata": {
        "colab": {
          "base_uri": "https://localhost:8080/"
        },
        "id": "zmyTFwecXcfs",
        "outputId": "e0433ce7-99c7-473e-fb83-e62a8a6906e8"
      },
      "execution_count": null,
      "outputs": [
        {
          "output_type": "execute_result",
          "data": {
            "text/plain": [
              "621"
            ]
          },
          "metadata": {},
          "execution_count": 472
        }
      ]
    },
    {
      "cell_type": "code",
      "source": [
        "trainData['number_of_spoken_languages']=trainData['number_of_spoken_languages'].fillna(trainData['number_of_spoken_languages'].mean()).round()\n",
        "testData['number_of_spoken_languages']=testData['number_of_spoken_languages'].fillna(testData['number_of_spoken_languages'].mean()).round()"
      ],
      "metadata": {
        "id": "lDXkGu9mXfFV"
      },
      "execution_count": null,
      "outputs": []
    },
    {
      "cell_type": "code",
      "source": [
        "trainData.drop(['spoken_languages'], axis=1, inplace=True)\n",
        "testData.drop(['spoken_languages'], axis=1, inplace=True)"
      ],
      "metadata": {
        "id": "5HtkmNChhaR1"
      },
      "execution_count": null,
      "outputs": []
    },
    {
      "cell_type": "markdown",
      "source": [
        "# Estatus"
      ],
      "metadata": {
        "id": "eXUqn3JZXlQu"
      }
    },
    {
      "cell_type": "code",
      "source": [
        "trainData['status'].value_counts()\n",
        "\n",
        "testData['status'].value_counts()"
      ],
      "metadata": {
        "colab": {
          "base_uri": "https://localhost:8080/"
        },
        "id": "OxBbW9eNXnsG",
        "outputId": "207d4d6b-98b0-4e39-bbd8-f31709841917"
      },
      "execution_count": null,
      "outputs": [
        {
          "output_type": "execute_result",
          "data": {
            "text/plain": [
              "Released           4389\n",
              "Post Production       5\n",
              "Rumored               2\n",
              "Name: status, dtype: int64"
            ]
          },
          "metadata": {},
          "execution_count": 475
        }
      ]
    },
    {
      "cell_type": "code",
      "source": [
        "Status=pd.DataFrame(columns=[\"Status\"])\n",
        "trainData=pd.concat([trainData,Status],axis=1)\n",
        "testData=pd.concat([testData,Status],axis=1)"
      ],
      "metadata": {
        "id": "T2JSG0_XXo0J"
      },
      "execution_count": null,
      "outputs": []
    },
    {
      "cell_type": "code",
      "source": [
        "j=0\n",
        "for i in trainData[\"status\"]:\n",
        "    if i=='Released':\n",
        "        trainData['Status'][j]=1\n",
        "    elif str(i)=='NaN':\n",
        "        trainData['Status'][j]=np.NaN\n",
        "    else:\n",
        "        trainData['Status'][j]=0\n",
        "    j+=1\n",
        "j=0\n",
        "for i in testData[\"status\"]:\n",
        "    if i=='Released':\n",
        "        testData['Status'][j]=1\n",
        "    elif str(i)=='NaN':\n",
        "        testData['Status'][j]=np.NaN\n",
        "    else:\n",
        "        testData['Status'][j]=0\n",
        "    j+=1\n",
        "    "
      ],
      "metadata": {
        "colab": {
          "base_uri": "https://localhost:8080/"
        },
        "id": "1wwE0AaYXtcF",
        "outputId": "094304f4-874e-40bc-8514-127b93a844c3"
      },
      "execution_count": null,
      "outputs": [
        {
          "output_type": "stream",
          "name": "stderr",
          "text": [
            "/usr/local/lib/python3.7/dist-packages/ipykernel_launcher.py:4: SettingWithCopyWarning: \n",
            "A value is trying to be set on a copy of a slice from a DataFrame\n",
            "\n",
            "See the caveats in the documentation: https://pandas.pydata.org/pandas-docs/stable/user_guide/indexing.html#returning-a-view-versus-a-copy\n",
            "  after removing the cwd from sys.path.\n",
            "/usr/local/lib/python3.7/dist-packages/ipykernel_launcher.py:8: SettingWithCopyWarning: \n",
            "A value is trying to be set on a copy of a slice from a DataFrame\n",
            "\n",
            "See the caveats in the documentation: https://pandas.pydata.org/pandas-docs/stable/user_guide/indexing.html#returning-a-view-versus-a-copy\n",
            "  \n",
            "/usr/local/lib/python3.7/dist-packages/ipykernel_launcher.py:13: SettingWithCopyWarning: \n",
            "A value is trying to be set on a copy of a slice from a DataFrame\n",
            "\n",
            "See the caveats in the documentation: https://pandas.pydata.org/pandas-docs/stable/user_guide/indexing.html#returning-a-view-versus-a-copy\n",
            "  del sys.path[0]\n",
            "/usr/local/lib/python3.7/dist-packages/ipykernel_launcher.py:17: SettingWithCopyWarning: \n",
            "A value is trying to be set on a copy of a slice from a DataFrame\n",
            "\n",
            "See the caveats in the documentation: https://pandas.pydata.org/pandas-docs/stable/user_guide/indexing.html#returning-a-view-versus-a-copy\n"
          ]
        }
      ]
    },
    {
      "cell_type": "code",
      "source": [
        "trainData.drop(['status'], axis=1, inplace=True)\n",
        "testData.drop(['status'], axis=1, inplace=True)"
      ],
      "metadata": {
        "id": "WrPiCnQRXxnY"
      },
      "execution_count": null,
      "outputs": []
    },
    {
      "cell_type": "code",
      "source": [
        "trainData.drop(['Status'], axis=1, inplace=True)\n",
        "testData.drop(['Status'], axis=1, inplace=True)"
      ],
      "metadata": {
        "id": "hOVg6obZX2yJ"
      },
      "execution_count": null,
      "outputs": []
    },
    {
      "cell_type": "code",
      "source": [
        "trainData.drop(['title','release_date','tagline'], axis=1, inplace=True)\n",
        "testData.drop(['title','release_date','tagline'], axis=1, inplace=True)"
      ],
      "metadata": {
        "id": "FusyIfr4YCJd"
      },
      "execution_count": null,
      "outputs": []
    },
    {
      "cell_type": "code",
      "source": [
        "#palabras claves\n",
        "trainData.drop(['Keywords'], axis=1, inplace=True)\n",
        "testData.drop(['Keywords'], axis=1, inplace=True)"
      ],
      "metadata": {
        "id": "qmrnZnL8YEVM"
      },
      "execution_count": null,
      "outputs": []
    },
    {
      "cell_type": "code",
      "source": [
        "size_of_cast = pd.DataFrame(columns=['size_of_cast'])\n",
        "trainData = pd.concat([trainData, size_of_cast], axis=1)\n",
        "testData = pd.concat([testData, size_of_cast], axis=1)"
      ],
      "metadata": {
        "id": "WRmsEJHFYih0"
      },
      "execution_count": null,
      "outputs": []
    },
    {
      "cell_type": "code",
      "source": [
        "j = 0\n",
        "for i in trainData['cast']:\n",
        "    d = get_dict(i)\n",
        "    if d != {}:\n",
        "        trainData['size_of_cast'][j] = len(d)\n",
        "    else:\n",
        "        trainData['size_of_cast'][j] = np.NaN\n",
        "    j += 1\n",
        "    \n",
        "j = 0\n",
        "for i in testData['cast']:\n",
        "    d = get_dict(i)\n",
        "    if d != {}:\n",
        "        testData['size_of_cast'][j] = len(d)\n",
        "    else:\n",
        "        testData['size_of_cast'][j] = np.NaN\n",
        "    j += 1"
      ],
      "metadata": {
        "colab": {
          "base_uri": "https://localhost:8080/"
        },
        "id": "h5_VXTTtYkl2",
        "outputId": "05af1260-652c-4768-ef59-beaa291860fa"
      },
      "execution_count": null,
      "outputs": [
        {
          "output_type": "stream",
          "name": "stderr",
          "text": [
            "/usr/local/lib/python3.7/dist-packages/ipykernel_launcher.py:5: SettingWithCopyWarning: \n",
            "A value is trying to be set on a copy of a slice from a DataFrame\n",
            "\n",
            "See the caveats in the documentation: https://pandas.pydata.org/pandas-docs/stable/user_guide/indexing.html#returning-a-view-versus-a-copy\n",
            "  \"\"\"\n",
            "/usr/local/lib/python3.7/dist-packages/ipykernel_launcher.py:7: SettingWithCopyWarning: \n",
            "A value is trying to be set on a copy of a slice from a DataFrame\n",
            "\n",
            "See the caveats in the documentation: https://pandas.pydata.org/pandas-docs/stable/user_guide/indexing.html#returning-a-view-versus-a-copy\n",
            "  import sys\n",
            "/usr/local/lib/python3.7/dist-packages/ipykernel_launcher.py:14: SettingWithCopyWarning: \n",
            "A value is trying to be set on a copy of a slice from a DataFrame\n",
            "\n",
            "See the caveats in the documentation: https://pandas.pydata.org/pandas-docs/stable/user_guide/indexing.html#returning-a-view-versus-a-copy\n",
            "  \n",
            "/usr/local/lib/python3.7/dist-packages/ipykernel_launcher.py:16: SettingWithCopyWarning: \n",
            "A value is trying to be set on a copy of a slice from a DataFrame\n",
            "\n",
            "See the caveats in the documentation: https://pandas.pydata.org/pandas-docs/stable/user_guide/indexing.html#returning-a-view-versus-a-copy\n",
            "  app.launch_new_instance()\n"
          ]
        }
      ]
    },
    {
      "cell_type": "code",
      "source": [
        "trainData.drop(['cast'], axis=1, inplace=True)\n",
        "testData.drop(['cast'], axis=1, inplace=True)"
      ],
      "metadata": {
        "id": "hN9T3rTVYonV"
      },
      "execution_count": null,
      "outputs": []
    },
    {
      "cell_type": "code",
      "source": [
        "trainData[\"size_of_cast\"].isnull().sum()"
      ],
      "metadata": {
        "colab": {
          "base_uri": "https://localhost:8080/"
        },
        "id": "hfAX5lXnYs4f",
        "outputId": "0d25d672-5fe6-41f9-e541-3798e8aca2c7"
      },
      "execution_count": null,
      "outputs": [
        {
          "output_type": "execute_result",
          "data": {
            "text/plain": [
              "627"
            ]
          },
          "metadata": {},
          "execution_count": 485
        }
      ]
    },
    {
      "cell_type": "code",
      "source": [
        "trainData['size_of_cast']=trainData['size_of_cast'].fillna(trainData['size_of_cast'].mean()).round()\n",
        "testData['size_of_cast']=testData['size_of_cast'].fillna(testData['size_of_cast'].mean()).round()"
      ],
      "metadata": {
        "id": "HyWBQatIYu9w"
      },
      "execution_count": null,
      "outputs": []
    },
    {
      "cell_type": "code",
      "source": [
        "trainData.drop(['crew'], axis=1, inplace=True)\n",
        "testData.drop(['crew'], axis=1, inplace=True)"
      ],
      "metadata": {
        "id": "0Xdc6Q3WYxBq"
      },
      "execution_count": null,
      "outputs": []
    },
    {
      "cell_type": "code",
      "source": [
        "trainData.drop(['belongs_to_collection'], axis=1, inplace=True)\n",
        "testData.drop(['belongs_to_collection'], axis=1, inplace=True)"
      ],
      "metadata": {
        "id": "Ye0tGTWfZaoR"
      },
      "execution_count": null,
      "outputs": []
    },
    {
      "cell_type": "code",
      "source": [
        "testData.head()"
      ],
      "metadata": {
        "colab": {
          "base_uri": "https://localhost:8080/",
          "height": 206
        },
        "id": "d0fkeO56Y60z",
        "outputId": "a1547335-2bdf-4a59-f09a-626a15ed2bb3"
      },
      "execution_count": null,
      "outputs": [
        {
          "output_type": "execute_result",
          "data": {
            "text/plain": [
              "     id   budget  popularity  runtime  log_budget  genre_Count  Has_En  \\\n",
              "0  3001        0    3.851534     90.0    0.000000            4       0   \n",
              "1  3002    88000    3.559789     65.0   11.385103            2       0   \n",
              "2  3003        0    8.085194    100.0    0.000000            2       0   \n",
              "3  3004  6800000    8.596012    130.0   15.732433            3       0   \n",
              "4  3005  2000000    3.217680     92.0   14.508658            2       0   \n",
              "\n",
              "   num_production_companies is_use_preduction  number_of_spoken_languages  \\\n",
              "0                       3.0                 1                         2.0   \n",
              "1                       1.0                 1                         1.0   \n",
              "2                       3.0                 1                         1.0   \n",
              "3                       3.0                 0                         3.0   \n",
              "4                       3.0                 1                         1.0   \n",
              "\n",
              "   size_of_cast  \n",
              "0           7.0  \n",
              "1          10.0  \n",
              "2           9.0  \n",
              "3          23.0  \n",
              "4           4.0  "
            ],
            "text/html": [
              "\n",
              "  <div id=\"df-408c37d2-7fd2-4e62-936c-a093f9466b34\">\n",
              "    <div class=\"colab-df-container\">\n",
              "      <div>\n",
              "<style scoped>\n",
              "    .dataframe tbody tr th:only-of-type {\n",
              "        vertical-align: middle;\n",
              "    }\n",
              "\n",
              "    .dataframe tbody tr th {\n",
              "        vertical-align: top;\n",
              "    }\n",
              "\n",
              "    .dataframe thead th {\n",
              "        text-align: right;\n",
              "    }\n",
              "</style>\n",
              "<table border=\"1\" class=\"dataframe\">\n",
              "  <thead>\n",
              "    <tr style=\"text-align: right;\">\n",
              "      <th></th>\n",
              "      <th>id</th>\n",
              "      <th>budget</th>\n",
              "      <th>popularity</th>\n",
              "      <th>runtime</th>\n",
              "      <th>log_budget</th>\n",
              "      <th>genre_Count</th>\n",
              "      <th>Has_En</th>\n",
              "      <th>num_production_companies</th>\n",
              "      <th>is_use_preduction</th>\n",
              "      <th>number_of_spoken_languages</th>\n",
              "      <th>size_of_cast</th>\n",
              "    </tr>\n",
              "  </thead>\n",
              "  <tbody>\n",
              "    <tr>\n",
              "      <th>0</th>\n",
              "      <td>3001</td>\n",
              "      <td>0</td>\n",
              "      <td>3.851534</td>\n",
              "      <td>90.0</td>\n",
              "      <td>0.000000</td>\n",
              "      <td>4</td>\n",
              "      <td>0</td>\n",
              "      <td>3.0</td>\n",
              "      <td>1</td>\n",
              "      <td>2.0</td>\n",
              "      <td>7.0</td>\n",
              "    </tr>\n",
              "    <tr>\n",
              "      <th>1</th>\n",
              "      <td>3002</td>\n",
              "      <td>88000</td>\n",
              "      <td>3.559789</td>\n",
              "      <td>65.0</td>\n",
              "      <td>11.385103</td>\n",
              "      <td>2</td>\n",
              "      <td>0</td>\n",
              "      <td>1.0</td>\n",
              "      <td>1</td>\n",
              "      <td>1.0</td>\n",
              "      <td>10.0</td>\n",
              "    </tr>\n",
              "    <tr>\n",
              "      <th>2</th>\n",
              "      <td>3003</td>\n",
              "      <td>0</td>\n",
              "      <td>8.085194</td>\n",
              "      <td>100.0</td>\n",
              "      <td>0.000000</td>\n",
              "      <td>2</td>\n",
              "      <td>0</td>\n",
              "      <td>3.0</td>\n",
              "      <td>1</td>\n",
              "      <td>1.0</td>\n",
              "      <td>9.0</td>\n",
              "    </tr>\n",
              "    <tr>\n",
              "      <th>3</th>\n",
              "      <td>3004</td>\n",
              "      <td>6800000</td>\n",
              "      <td>8.596012</td>\n",
              "      <td>130.0</td>\n",
              "      <td>15.732433</td>\n",
              "      <td>3</td>\n",
              "      <td>0</td>\n",
              "      <td>3.0</td>\n",
              "      <td>0</td>\n",
              "      <td>3.0</td>\n",
              "      <td>23.0</td>\n",
              "    </tr>\n",
              "    <tr>\n",
              "      <th>4</th>\n",
              "      <td>3005</td>\n",
              "      <td>2000000</td>\n",
              "      <td>3.217680</td>\n",
              "      <td>92.0</td>\n",
              "      <td>14.508658</td>\n",
              "      <td>2</td>\n",
              "      <td>0</td>\n",
              "      <td>3.0</td>\n",
              "      <td>1</td>\n",
              "      <td>1.0</td>\n",
              "      <td>4.0</td>\n",
              "    </tr>\n",
              "  </tbody>\n",
              "</table>\n",
              "</div>\n",
              "      <button class=\"colab-df-convert\" onclick=\"convertToInteractive('df-408c37d2-7fd2-4e62-936c-a093f9466b34')\"\n",
              "              title=\"Convert this dataframe to an interactive table.\"\n",
              "              style=\"display:none;\">\n",
              "        \n",
              "  <svg xmlns=\"http://www.w3.org/2000/svg\" height=\"24px\"viewBox=\"0 0 24 24\"\n",
              "       width=\"24px\">\n",
              "    <path d=\"M0 0h24v24H0V0z\" fill=\"none\"/>\n",
              "    <path d=\"M18.56 5.44l.94 2.06.94-2.06 2.06-.94-2.06-.94-.94-2.06-.94 2.06-2.06.94zm-11 1L8.5 8.5l.94-2.06 2.06-.94-2.06-.94L8.5 2.5l-.94 2.06-2.06.94zm10 10l.94 2.06.94-2.06 2.06-.94-2.06-.94-.94-2.06-.94 2.06-2.06.94z\"/><path d=\"M17.41 7.96l-1.37-1.37c-.4-.4-.92-.59-1.43-.59-.52 0-1.04.2-1.43.59L10.3 9.45l-7.72 7.72c-.78.78-.78 2.05 0 2.83L4 21.41c.39.39.9.59 1.41.59.51 0 1.02-.2 1.41-.59l7.78-7.78 2.81-2.81c.8-.78.8-2.07 0-2.86zM5.41 20L4 18.59l7.72-7.72 1.47 1.35L5.41 20z\"/>\n",
              "  </svg>\n",
              "      </button>\n",
              "      \n",
              "  <style>\n",
              "    .colab-df-container {\n",
              "      display:flex;\n",
              "      flex-wrap:wrap;\n",
              "      gap: 12px;\n",
              "    }\n",
              "\n",
              "    .colab-df-convert {\n",
              "      background-color: #E8F0FE;\n",
              "      border: none;\n",
              "      border-radius: 50%;\n",
              "      cursor: pointer;\n",
              "      display: none;\n",
              "      fill: #1967D2;\n",
              "      height: 32px;\n",
              "      padding: 0 0 0 0;\n",
              "      width: 32px;\n",
              "    }\n",
              "\n",
              "    .colab-df-convert:hover {\n",
              "      background-color: #E2EBFA;\n",
              "      box-shadow: 0px 1px 2px rgba(60, 64, 67, 0.3), 0px 1px 3px 1px rgba(60, 64, 67, 0.15);\n",
              "      fill: #174EA6;\n",
              "    }\n",
              "\n",
              "    [theme=dark] .colab-df-convert {\n",
              "      background-color: #3B4455;\n",
              "      fill: #D2E3FC;\n",
              "    }\n",
              "\n",
              "    [theme=dark] .colab-df-convert:hover {\n",
              "      background-color: #434B5C;\n",
              "      box-shadow: 0px 1px 3px 1px rgba(0, 0, 0, 0.15);\n",
              "      filter: drop-shadow(0px 1px 2px rgba(0, 0, 0, 0.3));\n",
              "      fill: #FFFFFF;\n",
              "    }\n",
              "  </style>\n",
              "\n",
              "      <script>\n",
              "        const buttonEl =\n",
              "          document.querySelector('#df-408c37d2-7fd2-4e62-936c-a093f9466b34 button.colab-df-convert');\n",
              "        buttonEl.style.display =\n",
              "          google.colab.kernel.accessAllowed ? 'block' : 'none';\n",
              "\n",
              "        async function convertToInteractive(key) {\n",
              "          const element = document.querySelector('#df-408c37d2-7fd2-4e62-936c-a093f9466b34');\n",
              "          const dataTable =\n",
              "            await google.colab.kernel.invokeFunction('convertToInteractive',\n",
              "                                                     [key], {});\n",
              "          if (!dataTable) return;\n",
              "\n",
              "          const docLinkHtml = 'Like what you see? Visit the ' +\n",
              "            '<a target=\"_blank\" href=https://colab.research.google.com/notebooks/data_table.ipynb>data table notebook</a>'\n",
              "            + ' to learn more about interactive tables.';\n",
              "          element.innerHTML = '';\n",
              "          dataTable['output_type'] = 'display_data';\n",
              "          await google.colab.output.renderOutput(dataTable, element);\n",
              "          const docLink = document.createElement('div');\n",
              "          docLink.innerHTML = docLinkHtml;\n",
              "          element.appendChild(docLink);\n",
              "        }\n",
              "      </script>\n",
              "    </div>\n",
              "  </div>\n",
              "  "
            ]
          },
          "metadata": {},
          "execution_count": 489
        }
      ]
    },
    {
      "cell_type": "code",
      "source": [
        "trainData.head()\n"
      ],
      "metadata": {
        "colab": {
          "base_uri": "https://localhost:8080/",
          "height": 250
        },
        "id": "ySx1HiWaZNlE",
        "outputId": "c3afd738-7498-4835-e6fd-d17fbc55499f"
      },
      "execution_count": null,
      "outputs": [
        {
          "output_type": "execute_result",
          "data": {
            "text/plain": [
              "   id    budget  popularity  runtime   revenue  log_budget  genre_Count  \\\n",
              "0   1  14000000    6.575393     93.0  12314651   16.454568            1   \n",
              "1   2  40000000    8.248895    113.0  95149435   17.504390            4   \n",
              "2   3   3300000   64.299990    105.0  13092000   15.009433            1   \n",
              "3   4   1200000    3.174936    122.0  16000000   13.997833            2   \n",
              "5   6   8000000    0.743274     83.0   3261638   15.894952            2   \n",
              "\n",
              "   Has_En  num_production_companies is_use_preduction  \\\n",
              "0       1                       3.0                 1   \n",
              "1       1                       1.0                 1   \n",
              "2       1                       3.0                 1   \n",
              "3       1                       3.0                 0   \n",
              "5       1                       2.0                 1   \n",
              "\n",
              "   number_of_spoken_languages  size_of_cast  \n",
              "0                         1.0          24.0  \n",
              "1                         1.0          20.0  \n",
              "2                         1.0          51.0  \n",
              "3                         2.0           7.0  \n",
              "5                         1.0          14.0  "
            ],
            "text/html": [
              "\n",
              "  <div id=\"df-f933223a-fde2-4bd0-863e-f0051ba8fad4\">\n",
              "    <div class=\"colab-df-container\">\n",
              "      <div>\n",
              "<style scoped>\n",
              "    .dataframe tbody tr th:only-of-type {\n",
              "        vertical-align: middle;\n",
              "    }\n",
              "\n",
              "    .dataframe tbody tr th {\n",
              "        vertical-align: top;\n",
              "    }\n",
              "\n",
              "    .dataframe thead th {\n",
              "        text-align: right;\n",
              "    }\n",
              "</style>\n",
              "<table border=\"1\" class=\"dataframe\">\n",
              "  <thead>\n",
              "    <tr style=\"text-align: right;\">\n",
              "      <th></th>\n",
              "      <th>id</th>\n",
              "      <th>budget</th>\n",
              "      <th>popularity</th>\n",
              "      <th>runtime</th>\n",
              "      <th>revenue</th>\n",
              "      <th>log_budget</th>\n",
              "      <th>genre_Count</th>\n",
              "      <th>Has_En</th>\n",
              "      <th>num_production_companies</th>\n",
              "      <th>is_use_preduction</th>\n",
              "      <th>number_of_spoken_languages</th>\n",
              "      <th>size_of_cast</th>\n",
              "    </tr>\n",
              "  </thead>\n",
              "  <tbody>\n",
              "    <tr>\n",
              "      <th>0</th>\n",
              "      <td>1</td>\n",
              "      <td>14000000</td>\n",
              "      <td>6.575393</td>\n",
              "      <td>93.0</td>\n",
              "      <td>12314651</td>\n",
              "      <td>16.454568</td>\n",
              "      <td>1</td>\n",
              "      <td>1</td>\n",
              "      <td>3.0</td>\n",
              "      <td>1</td>\n",
              "      <td>1.0</td>\n",
              "      <td>24.0</td>\n",
              "    </tr>\n",
              "    <tr>\n",
              "      <th>1</th>\n",
              "      <td>2</td>\n",
              "      <td>40000000</td>\n",
              "      <td>8.248895</td>\n",
              "      <td>113.0</td>\n",
              "      <td>95149435</td>\n",
              "      <td>17.504390</td>\n",
              "      <td>4</td>\n",
              "      <td>1</td>\n",
              "      <td>1.0</td>\n",
              "      <td>1</td>\n",
              "      <td>1.0</td>\n",
              "      <td>20.0</td>\n",
              "    </tr>\n",
              "    <tr>\n",
              "      <th>2</th>\n",
              "      <td>3</td>\n",
              "      <td>3300000</td>\n",
              "      <td>64.299990</td>\n",
              "      <td>105.0</td>\n",
              "      <td>13092000</td>\n",
              "      <td>15.009433</td>\n",
              "      <td>1</td>\n",
              "      <td>1</td>\n",
              "      <td>3.0</td>\n",
              "      <td>1</td>\n",
              "      <td>1.0</td>\n",
              "      <td>51.0</td>\n",
              "    </tr>\n",
              "    <tr>\n",
              "      <th>3</th>\n",
              "      <td>4</td>\n",
              "      <td>1200000</td>\n",
              "      <td>3.174936</td>\n",
              "      <td>122.0</td>\n",
              "      <td>16000000</td>\n",
              "      <td>13.997833</td>\n",
              "      <td>2</td>\n",
              "      <td>1</td>\n",
              "      <td>3.0</td>\n",
              "      <td>0</td>\n",
              "      <td>2.0</td>\n",
              "      <td>7.0</td>\n",
              "    </tr>\n",
              "    <tr>\n",
              "      <th>5</th>\n",
              "      <td>6</td>\n",
              "      <td>8000000</td>\n",
              "      <td>0.743274</td>\n",
              "      <td>83.0</td>\n",
              "      <td>3261638</td>\n",
              "      <td>15.894952</td>\n",
              "      <td>2</td>\n",
              "      <td>1</td>\n",
              "      <td>2.0</td>\n",
              "      <td>1</td>\n",
              "      <td>1.0</td>\n",
              "      <td>14.0</td>\n",
              "    </tr>\n",
              "  </tbody>\n",
              "</table>\n",
              "</div>\n",
              "      <button class=\"colab-df-convert\" onclick=\"convertToInteractive('df-f933223a-fde2-4bd0-863e-f0051ba8fad4')\"\n",
              "              title=\"Convert this dataframe to an interactive table.\"\n",
              "              style=\"display:none;\">\n",
              "        \n",
              "  <svg xmlns=\"http://www.w3.org/2000/svg\" height=\"24px\"viewBox=\"0 0 24 24\"\n",
              "       width=\"24px\">\n",
              "    <path d=\"M0 0h24v24H0V0z\" fill=\"none\"/>\n",
              "    <path d=\"M18.56 5.44l.94 2.06.94-2.06 2.06-.94-2.06-.94-.94-2.06-.94 2.06-2.06.94zm-11 1L8.5 8.5l.94-2.06 2.06-.94-2.06-.94L8.5 2.5l-.94 2.06-2.06.94zm10 10l.94 2.06.94-2.06 2.06-.94-2.06-.94-.94-2.06-.94 2.06-2.06.94z\"/><path d=\"M17.41 7.96l-1.37-1.37c-.4-.4-.92-.59-1.43-.59-.52 0-1.04.2-1.43.59L10.3 9.45l-7.72 7.72c-.78.78-.78 2.05 0 2.83L4 21.41c.39.39.9.59 1.41.59.51 0 1.02-.2 1.41-.59l7.78-7.78 2.81-2.81c.8-.78.8-2.07 0-2.86zM5.41 20L4 18.59l7.72-7.72 1.47 1.35L5.41 20z\"/>\n",
              "  </svg>\n",
              "      </button>\n",
              "      \n",
              "  <style>\n",
              "    .colab-df-container {\n",
              "      display:flex;\n",
              "      flex-wrap:wrap;\n",
              "      gap: 12px;\n",
              "    }\n",
              "\n",
              "    .colab-df-convert {\n",
              "      background-color: #E8F0FE;\n",
              "      border: none;\n",
              "      border-radius: 50%;\n",
              "      cursor: pointer;\n",
              "      display: none;\n",
              "      fill: #1967D2;\n",
              "      height: 32px;\n",
              "      padding: 0 0 0 0;\n",
              "      width: 32px;\n",
              "    }\n",
              "\n",
              "    .colab-df-convert:hover {\n",
              "      background-color: #E2EBFA;\n",
              "      box-shadow: 0px 1px 2px rgba(60, 64, 67, 0.3), 0px 1px 3px 1px rgba(60, 64, 67, 0.15);\n",
              "      fill: #174EA6;\n",
              "    }\n",
              "\n",
              "    [theme=dark] .colab-df-convert {\n",
              "      background-color: #3B4455;\n",
              "      fill: #D2E3FC;\n",
              "    }\n",
              "\n",
              "    [theme=dark] .colab-df-convert:hover {\n",
              "      background-color: #434B5C;\n",
              "      box-shadow: 0px 1px 3px 1px rgba(0, 0, 0, 0.15);\n",
              "      filter: drop-shadow(0px 1px 2px rgba(0, 0, 0, 0.3));\n",
              "      fill: #FFFFFF;\n",
              "    }\n",
              "  </style>\n",
              "\n",
              "      <script>\n",
              "        const buttonEl =\n",
              "          document.querySelector('#df-f933223a-fde2-4bd0-863e-f0051ba8fad4 button.colab-df-convert');\n",
              "        buttonEl.style.display =\n",
              "          google.colab.kernel.accessAllowed ? 'block' : 'none';\n",
              "\n",
              "        async function convertToInteractive(key) {\n",
              "          const element = document.querySelector('#df-f933223a-fde2-4bd0-863e-f0051ba8fad4');\n",
              "          const dataTable =\n",
              "            await google.colab.kernel.invokeFunction('convertToInteractive',\n",
              "                                                     [key], {});\n",
              "          if (!dataTable) return;\n",
              "\n",
              "          const docLinkHtml = 'Like what you see? Visit the ' +\n",
              "            '<a target=\"_blank\" href=https://colab.research.google.com/notebooks/data_table.ipynb>data table notebook</a>'\n",
              "            + ' to learn more about interactive tables.';\n",
              "          element.innerHTML = '';\n",
              "          dataTable['output_type'] = 'display_data';\n",
              "          await google.colab.output.renderOutput(dataTable, element);\n",
              "          const docLink = document.createElement('div');\n",
              "          docLink.innerHTML = docLinkHtml;\n",
              "          element.appendChild(docLink);\n",
              "        }\n",
              "      </script>\n",
              "    </div>\n",
              "  </div>\n",
              "  "
            ]
          },
          "metadata": {},
          "execution_count": 490
        }
      ]
    },
    {
      "cell_type": "code",
      "source": [
        "y=trainData.revenue"
      ],
      "metadata": {
        "id": "uyO2IRG6Z00x"
      },
      "execution_count": null,
      "outputs": []
    },
    {
      "cell_type": "code",
      "source": [
        "features=['log_budget','popularity',\"runtime\"]"
      ],
      "metadata": {
        "id": "gUkILPtCZ3cq"
      },
      "execution_count": null,
      "outputs": []
    },
    {
      "cell_type": "code",
      "source": [
        "train_x=trainData[features]"
      ],
      "metadata": {
        "id": "3wIY7MQvZ6Bo"
      },
      "execution_count": null,
      "outputs": []
    },
    {
      "cell_type": "code",
      "source": [
        "Rf_model=RandomForestRegressor(random_state=1)\n",
        "Rf_model.fit(train_x,y)\n",
        "Rf_prediction=Rf_model.predict(train_x)\n",
        "mean_absolute_error(Rf_prediction,y)"
      ],
      "metadata": {
        "colab": {
          "base_uri": "https://localhost:8080/"
        },
        "id": "T1DpAqsyZ7ze",
        "outputId": "cac744b7-0ad3-4d7e-a14a-cfb5c6e9ae2b"
      },
      "execution_count": null,
      "outputs": [
        {
          "output_type": "execute_result",
          "data": {
            "text/plain": [
              "20202943.660097625"
            ]
          },
          "metadata": {},
          "execution_count": 494
        }
      ]
    },
    {
      "cell_type": "code",
      "source": [
        "r2_score(Rf_prediction,y)"
      ],
      "metadata": {
        "colab": {
          "base_uri": "https://localhost:8080/"
        },
        "id": "O1KLEfRvZ83b",
        "outputId": "500f3cae-c1e3-45c7-8be3-2ffd6ec9f002"
      },
      "execution_count": null,
      "outputs": [
        {
          "output_type": "execute_result",
          "data": {
            "text/plain": [
              "0.9304375285237262"
            ]
          },
          "metadata": {},
          "execution_count": 495
        }
      ]
    },
    {
      "cell_type": "markdown",
      "source": [
        "Prediccion usando test data"
      ],
      "metadata": {
        "id": "kR50bx5TaFAa"
      }
    },
    {
      "cell_type": "code",
      "source": [
        "test_id=testData[\"id\"]\n",
        "test_id.shape\n",
        "test_x=testData[features]\n",
        "Rf_predictions=Rf_model.predict(test_x)"
      ],
      "metadata": {
        "id": "OmM9sNSKaEpR"
      },
      "execution_count": null,
      "outputs": []
    },
    {
      "cell_type": "code",
      "source": [
        "submission = pd.DataFrame({'id': test_id, 'revenue':Rf_predictions})\n",
        "submission = submission[['id', 'revenue']]\n",
        "\n",
        "submission.to_csv(\"submission.csv\", index=False)"
      ],
      "metadata": {
        "id": "zzXyUaWJaMWc"
      },
      "execution_count": null,
      "outputs": []
    },
    {
      "cell_type": "code",
      "source": [
        "print(Rf_predictions)"
      ],
      "metadata": {
        "colab": {
          "base_uri": "https://localhost:8080/"
        },
        "id": "3-UmsMFubYbR",
        "outputId": "16c6afdc-df08-40a9-8ff8-8a7b610f4b67"
      },
      "execution_count": null,
      "outputs": [
        {
          "output_type": "stream",
          "name": "stdout",
          "text": [
            "[1.13221754e+07 9.84796000e+06 4.16255027e+06 ... 7.54750459e+07\n",
            " 1.84780713e+08 1.35027201e+07]\n"
          ]
        }
      ]
    }
  ]
}